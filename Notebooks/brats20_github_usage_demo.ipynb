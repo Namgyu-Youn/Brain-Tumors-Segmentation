{
  "nbformat": 4,
  "nbformat_minor": 0,
  "metadata": {
    "colab": {
      "provenance": [],
      "collapsed_sections": []
    },
    "kernelspec": {
      "name": "python3",
      "display_name": "Python 3"
    },
    "language_info": {
      "name": "python"
    },
    "gpuClass": "standard",
    "accelerator": "GPU"
  },
  "cells": [
    {
      "cell_type": "code",
      "source": [
        "%cd\n"
      ],
      "metadata": {
        "colab": {
          "base_uri": "https://localhost:8080/"
        },
        "id": "pQsh3Amk-DQz",
        "outputId": "fdb4d431-a9da-44f7-8338-c6f9c55d3417"
      },
      "execution_count": 1,
      "outputs": [
        {
          "output_type": "stream",
          "name": "stdout",
          "text": [
            "/root\n"
          ]
        }
      ]
    },
    {
      "cell_type": "code",
      "execution_count": 2,
      "metadata": {
        "colab": {
          "base_uri": "https://localhost:8080/"
        },
        "id": "KcZQ_3ZWPvgi",
        "outputId": "b886b543-776f-4298-9869-0fc1f86ae6e2"
      },
      "outputs": [
        {
          "output_type": "stream",
          "name": "stdout",
          "text": [
            "Mounted at /gdrive\n"
          ]
        }
      ],
      "source": [
        "from google.colab import drive\n",
        "\n",
        "drive.mount('/gdrive')"
      ]
    },
    {
      "cell_type": "code",
      "source": [
        "import os\n",
        "if not os.path.exists('/home/Brats202/'):\n",
        "  !mkdir '/home/Brats202/'\n",
        "else:\n",
        "  print('folder already exists')"
      ],
      "metadata": {
        "id": "-6CGJ4iSP_KS"
      },
      "execution_count": 21,
      "outputs": []
    },
    {
      "cell_type": "code",
      "source": [
        "%cd /home/Brats202/"
      ],
      "metadata": {
        "colab": {
          "base_uri": "https://localhost:8080/"
        },
        "id": "QQpmMLG2QSDS",
        "outputId": "9e7a5687-ee8a-48ad-c3b6-ee3ba32706e6"
      },
      "execution_count": 22,
      "outputs": [
        {
          "output_type": "stream",
          "name": "stdout",
          "text": [
            "/home/Brats202\n"
          ]
        }
      ]
    },
    {
      "cell_type": "code",
      "source": [
        "%pwd"
      ],
      "metadata": {
        "colab": {
          "base_uri": "https://localhost:8080/",
          "height": 35
        },
        "id": "sYZ-JpPAQT_C",
        "outputId": "328c7463-353a-42f0-a821-b05cb38b9eb6"
      },
      "execution_count": 23,
      "outputs": [
        {
          "output_type": "execute_result",
          "data": {
            "text/plain": [
              "'/home/Brats202'"
            ],
            "application/vnd.google.colaboratory.intrinsic+json": {
              "type": "string"
            }
          },
          "metadata": {},
          "execution_count": 23
        }
      ]
    },
    {
      "cell_type": "code",
      "source": [
        "%ls"
      ],
      "metadata": {
        "id": "gs8_O7NNQWfU"
      },
      "execution_count": 24,
      "outputs": []
    },
    {
      "cell_type": "code",
      "source": [
        "!git clone https://github.com/faizan1234567/Brats-20-Tumors-segmentation.git"
      ],
      "metadata": {
        "colab": {
          "base_uri": "https://localhost:8080/"
        },
        "id": "3ZUheFO-QW95",
        "outputId": "58d4ebce-d03e-4e2b-aa5e-dde025d877fe"
      },
      "execution_count": 25,
      "outputs": [
        {
          "output_type": "stream",
          "name": "stdout",
          "text": [
            "Cloning into 'Brats-20-Tumors-segmentation'...\n",
            "remote: Enumerating objects: 124, done.\u001b[K\n",
            "remote: Counting objects: 100% (124/124), done.\u001b[K\n",
            "remote: Compressing objects: 100% (92/92), done.\u001b[K\n",
            "remote: Total 124 (delta 64), reused 79 (delta 29), pack-reused 0\u001b[K\n",
            "Receiving objects: 100% (124/124), 652.65 KiB | 710.00 KiB/s, done.\n",
            "Resolving deltas: 100% (64/64), done.\n"
          ]
        }
      ]
    },
    {
      "cell_type": "code",
      "source": [
        "%ls"
      ],
      "metadata": {
        "colab": {
          "base_uri": "https://localhost:8080/"
        },
        "id": "Ka-K4uyuQb6T",
        "outputId": "2543cc2e-a513-4346-c9c8-e55421a70693"
      },
      "execution_count": 26,
      "outputs": [
        {
          "output_type": "stream",
          "name": "stdout",
          "text": [
            "\u001b[0m\u001b[01;34mBrats-20-Tumors-segmentation\u001b[0m/\n"
          ]
        }
      ]
    },
    {
      "cell_type": "code",
      "source": [
        "%cd Brats-20-Tumors-segmentation/"
      ],
      "metadata": {
        "colab": {
          "base_uri": "https://localhost:8080/"
        },
        "id": "n1_opTzmQd3J",
        "outputId": "5e757aa9-f166-46c6-8a04-9d2080482936"
      },
      "execution_count": 27,
      "outputs": [
        {
          "output_type": "stream",
          "name": "stdout",
          "text": [
            "/home/Brats202/Brats-20-Tumors-segmentation\n"
          ]
        }
      ]
    },
    {
      "cell_type": "code",
      "source": [
        "%pwd"
      ],
      "metadata": {
        "colab": {
          "base_uri": "https://localhost:8080/",
          "height": 35
        },
        "id": "udQwiif8Qgc1",
        "outputId": "de01b079-17a2-4c46-e07c-afe55d85d01c"
      },
      "execution_count": 28,
      "outputs": [
        {
          "output_type": "execute_result",
          "data": {
            "text/plain": [
              "'/home/Brats202/Brats-20-Tumors-segmentation'"
            ],
            "application/vnd.google.colaboratory.intrinsic+json": {
              "type": "string"
            }
          },
          "metadata": {},
          "execution_count": 28
        }
      ]
    },
    {
      "cell_type": "code",
      "source": [
        "%ls"
      ],
      "metadata": {
        "colab": {
          "base_uri": "https://localhost:8080/"
        },
        "id": "XN3go_97Qhpi",
        "outputId": "078be8e4-d217-4054-a899-368ca7320c8d"
      },
      "execution_count": 29,
      "outputs": [
        {
          "output_type": "stream",
          "name": "stdout",
          "text": [
            "\u001b[0m\u001b[01;34m'Brats-16-17 Results'\u001b[0m/   LICENSE            segment_3d.py\n",
            " BratsCustom.py          README.md          test.py\n",
            " configs.py              requirements.txt   utils.py\n"
          ]
        }
      ]
    },
    {
      "cell_type": "code",
      "source": [
        "##installation\n",
        "!pip install -r requirements.txt"
      ],
      "metadata": {
        "id": "nPzECqKYQiNn"
      },
      "execution_count": null,
      "outputs": []
    },
    {
      "cell_type": "code",
      "source": [
        "%pwd\n"
      ],
      "metadata": {
        "colab": {
          "base_uri": "https://localhost:8080/",
          "height": 35
        },
        "id": "JStgANBFRL96",
        "outputId": "d0c1f98d-f25b-4902-9373-e71bcf818212"
      },
      "execution_count": 30,
      "outputs": [
        {
          "output_type": "execute_result",
          "data": {
            "text/plain": [
              "'/home/Brats202/Brats-20-Tumors-segmentation'"
            ],
            "application/vnd.google.colaboratory.intrinsic+json": {
              "type": "string"
            }
          },
          "metadata": {},
          "execution_count": 30
        }
      ]
    },
    {
      "cell_type": "code",
      "source": [
        "%cd /home/Brats202/Brats-20-Tumors-segmentation/"
      ],
      "metadata": {
        "colab": {
          "base_uri": "https://localhost:8080/"
        },
        "id": "5Jm1Ly0L47XD",
        "outputId": "48fa7a9a-b774-4a9a-e01b-46f6c443ece6"
      },
      "execution_count": 32,
      "outputs": [
        {
          "output_type": "stream",
          "name": "stdout",
          "text": [
            "/home/Brats202/Brats-20-Tumors-segmentation\n"
          ]
        }
      ]
    },
    {
      "cell_type": "code",
      "source": [
        "!python segment_3d.py -h"
      ],
      "metadata": {
        "colab": {
          "base_uri": "https://localhost:8080/"
        },
        "id": "3wD_NwW2RIJz",
        "outputId": "6734faba-7a83-4c5e-ab73-f6ee8119375a"
      },
      "execution_count": 33,
      "outputs": [
        {
          "output_type": "stream",
          "name": "stdout",
          "text": [
            "usage: segment_3d.py [-h] [--epochs EPOCHS] [--lr LR]\n",
            "                     [--weight_decay WEIGHT_DECAY] [--batch BATCH]\n",
            "                     [--data_dir DATA_DIR] [--name NAME] [--workers WORKERS]\n",
            "\n",
            "parsing command line args for training a segmentation model on medical imaging\n",
            "dataset\n",
            "\n",
            "optional arguments:\n",
            "  -h, --help            show this help message and exit\n",
            "  --epochs EPOCHS       number of epochs to run the model for\n",
            "  --lr LR               learning rate\n",
            "  --weight_decay WEIGHT_DECAY\n",
            "                        weight decay\n",
            "  --batch BATCH         batch size\n",
            "  --data_dir DATA_DIR   data directory to put all the dataset..\n",
            "  --name NAME           name of the data dir\n",
            "  --workers WORKERS     number of workers\n"
          ]
        }
      ]
    },
    {
      "cell_type": "code",
      "source": [
        "!python segment_3d.py --epochs 1 --lr 1e-4 --weight_decay 1e-5 --batch 1 --data_dir '/home/Brats20' --name 'runs' --workers 2"
      ],
      "metadata": {
        "id": "iqyeEwTA_9uE"
      },
      "execution_count": null,
      "outputs": []
    },
    {
      "cell_type": "code",
      "source": [
        "%ls"
      ],
      "metadata": {
        "id": "_uDQk7L0_9qI",
        "colab": {
          "base_uri": "https://localhost:8080/"
        },
        "outputId": "ac34e84a-365c-44fd-ced1-3c63a0861162"
      },
      "execution_count": 34,
      "outputs": [
        {
          "output_type": "stream",
          "name": "stdout",
          "text": [
            "\u001b[0m\u001b[01;34m'Brats-16-17 Results'\u001b[0m/   LICENSE        requirements.txt   utils.py\n",
            " BratsCustom.py          \u001b[01;34m__pycache__\u001b[0m/   segment_3d.py\n",
            " configs.py              README.md      test.py\n"
          ]
        }
      ]
    },
    {
      "cell_type": "code",
      "source": [
        "!python test.py -h"
      ],
      "metadata": {
        "colab": {
          "base_uri": "https://localhost:8080/"
        },
        "id": "hA6QugSkcmcZ",
        "outputId": "3d9b2822-9365-471b-f68c-697707d0da1a"
      },
      "execution_count": 35,
      "outputs": [
        {
          "output_type": "stream",
          "name": "stdout",
          "text": [
            "usage: test.py [-h] [--weight WEIGHT] [--workers WORKERS] [--batch BATCH]\n",
            "\n",
            "optional arguments:\n",
            "  -h, --help         show this help message and exit\n",
            "  --weight WEIGHT    weight file path\n",
            "  --workers WORKERS  number of workers\n",
            "  --batch BATCH      batch size to load the dataset\n"
          ]
        }
      ]
    },
    {
      "cell_type": "code",
      "source": [
        "!python test.py --weight '/content/best_metric_model.pth' --workers 2 --batch 1"
      ],
      "metadata": {
        "colab": {
          "base_uri": "https://localhost:8080/"
        },
        "id": "Q6Vqtr9pcq3F",
        "outputId": "cd20a594-e42d-4d65-fa10-5704b8afc392"
      },
      "execution_count": 36,
      "outputs": [
        {
          "output_type": "stream",
          "name": "stdout",
          "text": [
            "configuring...\n",
            "done\n",
            "\n",
            "Loading test data... \n",
            "\n",
            "done\n",
            "Now evaluating models performance\n",
            "Metric on original image spacing:  0.45221734046936035\n",
            "metric_tc: 0.7516\n",
            "metric_wt: 0.3420\n",
            "metric_et: 0.2631\n",
            "done\n"
          ]
        }
      ]
    },
    {
      "cell_type": "code",
      "source": [
        "#  from utils import util\n",
        "#  import configs\n",
        "\n",
        "print('THE END')"
      ],
      "metadata": {
        "id": "_d88nA9z6yWZ",
        "colab": {
          "base_uri": "https://localhost:8080/"
        },
        "outputId": "0428d73c-f188-44ff-95ec-1881fb2e288d"
      },
      "execution_count": 37,
      "outputs": [
        {
          "output_type": "stream",
          "name": "stdout",
          "text": [
            "THE END\n"
          ]
        }
      ]
    },
    {
      "cell_type": "code",
      "source": [],
      "metadata": {
        "id": "hSrvzG_InBC_"
      },
      "execution_count": null,
      "outputs": []
    }
  ]
}